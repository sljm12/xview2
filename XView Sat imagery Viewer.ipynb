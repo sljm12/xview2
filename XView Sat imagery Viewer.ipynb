{
 "cells": [
  {
   "cell_type": "markdown",
   "metadata": {},
   "source": [
    "## Viewing the sat images and the mask ##\n",
    "\n",
    "This set of code is for viewing the Sat images pre and post and showing the boxes around it"
   ]
  },
  {
   "cell_type": "code",
   "execution_count": 2,
   "metadata": {},
   "outputs": [],
   "source": [
    "%matplotlib inline\n",
    "import matplotlib.pyplot as plt\n",
    "import matplotlib\n",
    "import numpy as np\n",
    "import os\n",
    "from PIL import Image\n",
    "import json\n",
    "import pathlib"
   ]
  },
  {
   "cell_type": "code",
   "execution_count": 6,
   "metadata": {},
   "outputs": [],
   "source": [
    "xview_train_img_dir = \"c:/data/xview2/train/images\"\n",
    "xview_train_json_dir = \"c:/data/xview2/train/labels\"\n",
    "xview_train_mask_dir = \"c:/data/xview2/train/mask1\""
   ]
  },
  {
   "cell_type": "code",
   "execution_count": 8,
   "metadata": {},
   "outputs": [],
   "source": [
    "def show_pre_post(file, xview_train_img_dir, xview_train_json_dir):\n",
    "    post_name = file + \"_post_disaster\"\n",
    "    pre_name = file + \"_pre_disaster\"\n",
    "    fig, ax = plt.subplots(1,2, figsize=(20,20))\n",
    "    load_show(ax[0], xview_train_img_dir, xview_train_json_dir, pre_name)\n",
    "    load_show(ax[1], xview_train_img_dir, xview_train_json_dir, post_name)\n",
    "    plt.show()\n",
    "\n",
    "def load_show(ax, img_path, json_path, name):\n",
    "    image_path=os.path.join(img_path, name+\".png\")\n",
    "    json_path = os.path.join(json_path, name+\".json\")\n",
    "    j = json.loads(pathlib.Path(json_path).read_text())\n",
    "    \n",
    "    im = Image.open(image_path)\n",
    "    \n",
    "    #im.show()\n",
    "    ax.imshow(im)\n",
    "    \n",
    "    polygons = extract_polygon(j)\n",
    "    for p in polygons:\n",
    "        ax.plot(p[0][0],p[0][1])\n",
    "\n",
    "    \n",
    "def plot_polygon(ax, x, y):\n",
    "    ax.plot(x,y)\n",
    "    \n",
    "def extract_polygon(json):\n",
    "    xy_f = json[\"features\"][\"xy\"]\n",
    "    results = []\n",
    "    for i in xy_f:\n",
    "        polygon_str = i[\"wkt\"]\n",
    "        r = decode_polygon(polygon_str)\n",
    "        results.append((r, i)) if r is not \"\" else \"\"\n",
    "    return results\n",
    "\n",
    "def decode_polygon(polygon_str):\n",
    "    if polygon_str.startswith(\"POLYGON\"):\n",
    "        replace_str = [\"POLYGON\", \"((\", \"))\", \",\"]\n",
    "        for rs in replace_str:\n",
    "            polygon_str = polygon_str.replace(rs,\"\")\n",
    "        x_y = polygon_str.strip().split(\" \")\n",
    "        x = list(map(lambda x:float(x), x_y[0::2]))\n",
    "        y = list(map(lambda x:float(x), x_y[1::2]))\n",
    "        return [x,y]\n",
    "    else:\n",
    "        print(\"Unknown Shape\")\n",
    "        return \"\"\n",
    "    \n",
    "def create_mask(picture, polygons):\n",
    "    im = Image.open(picture)\n",
    "    np.array(im.size)\n",
    "    \n",
    "            \n",
    "    \n",
    "c = decode_polygon(\"POLYGON ((532.1863714054954 165.9824503000504, 548.6019827848852 224.1613082732768, 446.2458177229872 264.4761185678668, 440.6934785817455 249.7503495372735, 425.9677095499687 253.1300342329752, 420.8981825090282 232.3691139606, 437.5551999358392 227.0581808684396, 431.2786426428399 201.2277335525121, 532.1863714054954 165.9824503000504))\")\n"
   ]
  },
  {
   "cell_type": "code",
   "execution_count": null,
   "metadata": {},
   "outputs": [],
   "source": [
    "show_pre_post(\"guatemala-volcano_00000000\", xview_train_img_dir, xview_train_json_dir)"
   ]
  },
  {
   "cell_type": "code",
   "execution_count": null,
   "metadata": {},
   "outputs": [],
   "source": [
    "show_pre_post(\"hurricane-florence_00000199\", xview_train_img_dir, xview_train_json_dir)"
   ]
  },
  {
   "cell_type": "markdown",
   "metadata": {},
   "source": [
    "## Code for generating a mask ##"
   ]
  },
  {
   "cell_type": "code",
   "execution_count": 4,
   "metadata": {},
   "outputs": [],
   "source": [
    "from skimage.draw import polygon \n",
    "\n",
    "def generate_mask_bw(img_file, json_file, mask_name):\n",
    "    '''\n",
    "    Generates mask on any damage level\n",
    "    '''\n",
    "    #Create a mask of the same size as the image file\n",
    "    im = Image.open(img_file)\n",
    "    im.size\n",
    "    arr = np.zeros(im.size) \n",
    "\n",
    "    #Load the json and extract the polygon information\n",
    "    j = json.loads(pathlib.Path(json_file).read_text())\n",
    "    x_y = [poly for (poly,json_meta) in extract_polygon(j)] #Get only the polygon data out\n",
    "\n",
    "    #Create the polygon in arr and assign it value 255 which in grey scale is the color white\n",
    "    for i in x_y:\n",
    "        xs, ys = polygon(i[1],i[0], shape = im.size)\n",
    "        arr[xs,ys]=255\n",
    "    \n",
    "    #plt.imsave(mask_name,arr, cmap=\"gray\")\n",
    "    Image.fromarray(arr).convert(\"L\").save(mask_name)\n",
    "    return arr\n",
    "\n",
    "def generate_mask(img_file, json_file, mask_name):\n",
    "    '''\n",
    "    Generates mask on any damage level\n",
    "    '''\n",
    "    #Create a mask of the same size as the image file\n",
    "    im = Image.open(img_file)\n",
    "    im.size\n",
    "    arr = np.zeros(im.size) \n",
    "\n",
    "    #Load the json and extract the polygon information\n",
    "    j = json.loads(pathlib.Path(json_file).read_text())\n",
    "    x_y = [poly for (poly,json_meta) in extract_polygon(j)] #Get only the polygon data out\n",
    "\n",
    "    #Create the polygon in arr and assign it value 255 which in grey scale is the color white\n",
    "    for i in x_y:\n",
    "        xs, ys = polygon(i[1],i[0], shape = im.size)\n",
    "        arr[xs,ys]=255\n",
    "    plt.imsave(mask_name,arr, cmap=\"gray\")\n",
    "    return arr\n",
    "\n",
    "def generate_mask_damage(img_file, json_file, mask_name):\n",
    "    '''\n",
    "    Generates mask based on damage level\n",
    "    '''\n",
    "    class_names = [\"no-damage\",\"minor-damage\",\"major-damage\",\"destroyed\"]\n",
    "    #Create a mask of the same size as the image file\n",
    "    im = Image.open(img_file)\n",
    "    im.size\n",
    "    arr = np.zeros(im.size) \n",
    "\n",
    "    #Load the json and extract the polygon information\n",
    "    j = json.loads(pathlib.Path(json_file).read_text())\n",
    "    list_p_json_data = extract_polygon(j) #Get only the polygon data out\n",
    "\n",
    "    #Create the polygon in arr and assign it value 255 which in grey scale is the color white\n",
    "    for (p, meta) in list_p_json_data:\n",
    "        xs, ys = polygon(p[1],p[0], shape = im.size)\n",
    "        damage = meta[\"properties\"][\"subtype\"]\n",
    "        if damage in class_names:\n",
    "            arr[xs,ys]=class_names.index(damage)+1\n",
    "        elif damage != \"un-classified\":\n",
    "            print(damage,\"not found\", json_file)\n",
    "            break\n",
    "    plt.imsave(mask_name,arr, cmap=\"gray\", vmin=0, vmax=4)\n",
    "    return arr"
   ]
  },
  {
   "cell_type": "code",
   "execution_count": 18,
   "metadata": {},
   "outputs": [
    {
     "data": {
      "text/plain": [
       "<matplotlib.image.AxesImage at 0x1ee2e52f208>"
      ]
     },
     "execution_count": 18,
     "metadata": {},
     "output_type": "execute_result"
    },
    {
     "data": {
      "image/png": "[encoded data removed]",
      "text/plain": [
       "<Figure size 432x288 with 1 Axes>"
      ]
     },
     "metadata": {
      "needs_background": "light"
     },
     "output_type": "display_data"
    }
   ],
   "source": [
    "arr = generate_mask(os.path.join(xview_train_img_dir,\"midwest-flooding_00000181_post_disaster.png\"),\n",
    "                 os.path.join(xview_train_json_dir,\"midwest-flooding_00000181_post_disaster.json\"),\n",
    "                 \"mask1.tif\")\n",
    "plt.imshow(arr, cmap=\"gray\")"
   ]
  },
  {
   "cell_type": "code",
   "execution_count": null,
   "metadata": {},
   "outputs": [],
   "source": [
    "arr = generate_mask_damage(os.path.join(xview_train_img_dir,\"midwest-flooding_00000181_post_disaster.png\"),\n",
    "                 os.path.join(xview_train_json_dir,\"midwest-flooding_00000181_post_disaster.json\"),\n",
    "                 \"mask1.png\")\n",
    "plt.imshow(arr, cmap=\"gray\")"
   ]
  },
  {
   "cell_type": "code",
   "execution_count": null,
   "metadata": {},
   "outputs": [],
   "source": [
    "def get_mask_filename(name):\n",
    "    return name.replace(\".png\",\"_mask.png\")\n",
    "\n",
    "for (dirpath, dirspath, filenames) in os.walk(xview_train_img_dir):\n",
    "    for fn in filenames:\n",
    "        mask_fn=get_mask_filename(fn)\n",
    "        json_fn = fn.replace(\".png\",\".json\")\n",
    "        print(mask_fn)\n",
    "        generate_mask(os.path.join(dirpath, fn),\n",
    "                      os.path.join(xview_train_json_dir, json_fn),\n",
    "                      os.path.join(xview_train_mask_dir, mask_fn))\n",
    "                      "
   ]
  },
  {
   "cell_type": "code",
   "execution_count": null,
   "metadata": {},
   "outputs": [],
   "source": [
    "fns = os.listdir(xview_train_img_dir)\n",
    "print(len(fns))"
   ]
  },
  {
   "cell_type": "markdown",
   "metadata": {},
   "source": [
    "## Loading the mask back ##"
   ]
  },
  {
   "cell_type": "code",
   "execution_count": 20,
   "metadata": {},
   "outputs": [],
   "source": [
    "Image.open(\"mask1.tif\").convert(\"L\").save(\"mask1bw.tif\")"
   ]
  },
  {
   "cell_type": "code",
   "execution_count": 22,
   "metadata": {},
   "outputs": [
    {
     "name": "stdout",
     "output_type": "stream",
     "text": [
      "(1024, 1024)\n"
     ]
    },
    {
     "data": {
      "text/plain": [
       "<matplotlib.image.AxesImage at 0x1ee2d8faa20>"
      ]
     },
     "execution_count": 22,
     "metadata": {},
     "output_type": "execute_result"
    },
    {
     "data": {
      "image/png": "[encoded data removed]",
      "text/plain": [
       "<Figure size 432x288 with 1 Axes>"
      ]
     },
     "metadata": {
      "needs_background": "light"
     },
     "output_type": "display_data"
    }
   ],
   "source": [
    "image = Image.open(\"mask1bw.tif\")\n",
    "im_arr=np.asarray(image)\n",
    "print(im_arr.shape)\n",
    "plt.imshow(im_arr,cmap=\"gray\")"
   ]
  },
  {
   "cell_type": "markdown",
   "metadata": {},
   "source": [
    "## Generating Masks in Grayscale TIF ##"
   ]
  },
  {
   "cell_type": "code",
   "execution_count": 9,
   "metadata": {},
   "outputs": [
    {
     "name": "stdout",
     "output_type": "stream",
     "text": [
      "guatemala-volcano_00000000_post_disaster_mask.tif\n",
      "guatemala-volcano_00000000_pre_disaster_mask.tif\n",
      "guatemala-volcano_00000001_post_disaster_mask.tif\n",
      "guatemala-volcano_00000001_pre_disaster_mask.tif\n",
      "guatemala-volcano_00000002_post_disaster_mask.tif\n",
      "guatemala-volcano_00000002_pre_disaster_mask.tif\n",
      "guatemala-volcano_00000006_post_disaster_mask.tif\n",
      "guatemala-volcano_00000006_pre_disaster_mask.tif\n",
      "guatemala-volcano_00000007_post_disaster_mask.tif\n",
      "guatemala-volcano_00000007_pre_disaster_mask.tif\n",
      "guatemala-volcano_00000008_post_disaster_mask.tif\n",
      "guatemala-volcano_00000008_pre_disaster_mask.tif\n",
      "guatemala-volcano_00000010_post_disaster_mask.tif\n",
      "guatemala-volcano_00000010_pre_disaster_mask.tif\n",
      "guatemala-volcano_00000013_post_disaster_mask.tif\n",
      "guatemala-volcano_00000013_pre_disaster_mask.tif\n",
      "guatemala-volcano_00000015_post_disaster_mask.tif\n",
      "guatemala-volcano_00000015_pre_disaster_mask.tif\n",
      "guatemala-volcano_00000016_post_disaster_mask.tif\n",
      "guatemala-volcano_00000016_pre_disaster_mask.tif\n",
      "guatemala-volcano_00000017_post_disaster_mask.tif\n",
      "guatemala-volcano_00000017_pre_disaster_mask.tif\n",
      "guatemala-volcano_00000018_post_disaster_mask.tif\n",
      "guatemala-volcano_00000018_pre_disaster_mask.tif\n",
      "guatemala-volcano_00000019_post_disaster_mask.tif\n",
      "guatemala-volcano_00000019_pre_disaster_mask.tif\n",
      "guatemala-volcano_00000023_post_disaster_mask.tif\n",
      "guatemala-volcano_00000023_pre_disaster_mask.tif\n",
      "guatemala-volcano_00000024_post_disaster_mask.tif\n",
      "guatemala-volcano_00000024_pre_disaster_mask.tif\n",
      "guatemala-volcano_00000025_post_disaster_mask.tif\n",
      "guatemala-volcano_00000025_pre_disaster_mask.tif\n",
      "guatemala-volcano_00000026_post_disaster_mask.tif\n",
      "guatemala-volcano_00000026_pre_disaster_mask.tif\n",
      "guatemala-volcano_00000027_post_disaster_mask.tif\n",
      "guatemala-volcano_00000027_pre_disaster_mask.tif\n",
      "hurricane-florence_00000000_post_disaster_mask.tif\n",
      "hurricane-florence_00000000_pre_disaster_mask.tif\n",
      "hurricane-florence_00000001_post_disaster_mask.tif\n",
      "hurricane-florence_00000001_pre_disaster_mask.tif\n",
      "hurricane-florence_00000002_post_disaster_mask.tif\n",
      "hurricane-florence_00000002_pre_disaster_mask.tif\n",
      "hurricane-florence_00000003_post_disaster_mask.tif\n",
      "hurricane-florence_00000003_pre_disaster_mask.tif\n",
      "hurricane-florence_00000008_post_disaster_mask.tif\n",
      "hurricane-florence_00000008_pre_disaster_mask.tif\n",
      "hurricane-florence_00000012_post_disaster_mask.tif\n",
      "hurricane-florence_00000012_pre_disaster_mask.tif\n",
      "hurricane-florence_00000015_post_disaster_mask.tif\n",
      "hurricane-florence_00000015_pre_disaster_mask.tif\n",
      "hurricane-florence_00000016_post_disaster_mask.tif\n",
      "hurricane-florence_00000016_pre_disaster_mask.tif\n",
      "hurricane-florence_00000018_post_disaster_mask.tif\n",
      "hurricane-florence_00000018_pre_disaster_mask.tif\n",
      "hurricane-florence_00000020_post_disaster_mask.tif\n",
      "hurricane-florence_00000020_pre_disaster_mask.tif\n",
      "hurricane-florence_00000022_post_disaster_mask.tif\n",
      "hurricane-florence_00000022_pre_disaster_mask.tif\n",
      "hurricane-florence_00000023_post_disaster_mask.tif\n",
      "hurricane-florence_00000023_pre_disaster_mask.tif\n",
      "hurricane-florence_00000024_post_disaster_mask.tif\n",
      "hurricane-florence_00000024_pre_disaster_mask.tif\n",
      "hurricane-florence_00000026_post_disaster_mask.tif\n",
      "hurricane-florence_00000026_pre_disaster_mask.tif\n",
      "hurricane-florence_00000027_post_disaster_mask.tif\n",
      "hurricane-florence_00000027_pre_disaster_mask.tif\n",
      "hurricane-florence_00000028_post_disaster_mask.tif\n",
      "hurricane-florence_00000028_pre_disaster_mask.tif\n",
      "hurricane-florence_00000030_post_disaster_mask.tif\n",
      "hurricane-florence_00000030_pre_disaster_mask.tif\n",
      "hurricane-florence_00000031_post_disaster_mask.tif\n",
      "hurricane-florence_00000031_pre_disaster_mask.tif\n",
      "hurricane-florence_00000032_post_disaster_mask.tif\n",
      "hurricane-florence_00000032_pre_disaster_mask.tif\n",
      "hurricane-florence_00000036_post_disaster_mask.tif\n",
      "hurricane-florence_00000036_pre_disaster_mask.tif\n",
      "hurricane-florence_00000037_post_disaster_mask.tif\n",
      "hurricane-florence_00000037_pre_disaster_mask.tif\n",
      "hurricane-florence_00000042_post_disaster_mask.tif\n",
      "hurricane-florence_00000042_pre_disaster_mask.tif\n",
      "hurricane-florence_00000043_post_disaster_mask.tif\n",
      "hurricane-florence_00000043_pre_disaster_mask.tif\n",
      "hurricane-florence_00000044_post_disaster_mask.tif\n",
      "hurricane-florence_00000044_pre_disaster_mask.tif\n",
      "hurricane-florence_00000045_post_disaster_mask.tif\n",
      "hurricane-florence_00000045_pre_disaster_mask.tif\n",
      "hurricane-florence_00000048_post_disaster_mask.tif\n",
      "hurricane-florence_00000048_pre_disaster_mask.tif\n",
      "hurricane-florence_00000049_post_disaster_mask.tif\n",
      "hurricane-florence_00000049_pre_disaster_mask.tif\n",
      "hurricane-florence_00000051_post_disaster_mask.tif\n",
      "hurricane-florence_00000051_pre_disaster_mask.tif\n",
      "hurricane-florence_00000053_post_disaster_mask.tif\n",
      "hurricane-florence_00000053_pre_disaster_mask.tif\n",
      "hurricane-florence_00000054_post_disaster_mask.tif\n",
      "hurricane-florence_00000054_pre_disaster_mask.tif\n",
      "hurricane-florence_00000055_post_disaster_mask.tif\n",
      "hurricane-florence_00000055_pre_disaster_mask.tif\n",
      "hurricane-florence_00000057_post_disaster_mask.tif\n",
      "hurricane-florence_00000057_pre_disaster_mask.tif\n",
      "hurricane-florence_00000058_post_disaster_mask.tif\n",
      "hurricane-florence_00000058_pre_disaster_mask.tif\n",
      "hurricane-florence_00000059_post_disaster_mask.tif\n",
      "hurricane-florence_00000059_pre_disaster_mask.tif\n",
      "hurricane-florence_00000060_post_disaster_mask.tif\n",
      "hurricane-florence_00000060_pre_disaster_mask.tif\n",
      "hurricane-florence_00000061_post_disaster_mask.tif\n",
      "hurricane-florence_00000061_pre_disaster_mask.tif\n",
      "hurricane-florence_00000062_post_disaster_mask.tif\n",
      "hurricane-florence_00000062_pre_disaster_mask.tif\n",
      "hurricane-florence_00000063_post_disaster_mask.tif\n",
      "hurricane-florence_00000063_pre_disaster_mask.tif\n",
      "hurricane-florence_00000064_post_disaster_mask.tif\n",
      "hurricane-florence_00000064_pre_disaster_mask.tif\n",
      "hurricane-florence_00000065_post_disaster_mask.tif\n",
      "hurricane-florence_00000065_pre_disaster_mask.tif\n",
      "hurricane-florence_00000066_post_disaster_mask.tif\n",
      "hurricane-florence_00000066_pre_disaster_mask.tif\n",
      "hurricane-florence_00000067_post_disaster_mask.tif\n",
      "hurricane-florence_00000067_pre_disaster_mask.tif\n",
      "hurricane-florence_00000069_post_disaster_mask.tif\n",
      "hurricane-florence_00000069_pre_disaster_mask.tif\n",
      "hurricane-florence_00000070_post_disaster_mask.tif\n",
      "hurricane-florence_00000070_pre_disaster_mask.tif\n",
      "hurricane-florence_00000072_post_disaster_mask.tif\n",
      "hurricane-florence_00000072_pre_disaster_mask.tif\n",
      "hurricane-florence_00000073_post_disaster_mask.tif\n",
      "hurricane-florence_00000073_pre_disaster_mask.tif\n",
      "hurricane-florence_00000075_post_disaster_mask.tif\n",
      "hurricane-florence_00000075_pre_disaster_mask.tif\n",
      "hurricane-florence_00000078_post_disaster_mask.tif\n",
      "hurricane-florence_00000078_pre_disaster_mask.tif\n",
      "hurricane-florence_00000079_post_disaster_mask.tif\n",
      "hurricane-florence_00000079_pre_disaster_mask.tif\n",
      "hurricane-florence_00000080_post_disaster_mask.tif\n",
      "hurricane-florence_00000080_pre_disaster_mask.tif\n",
      "hurricane-florence_00000083_post_disaster_mask.tif\n",
      "hurricane-florence_00000083_pre_disaster_mask.tif\n",
      "hurricane-florence_00000084_post_disaster_mask.tif\n",
      "hurricane-florence_00000084_pre_disaster_mask.tif\n",
      "hurricane-florence_00000085_post_disaster_mask.tif\n",
      "hurricane-florence_00000085_pre_disaster_mask.tif\n",
      "hurricane-florence_00000086_post_disaster_mask.tif\n",
      "hurricane-florence_00000086_pre_disaster_mask.tif\n",
      "hurricane-florence_00000088_post_disaster_mask.tif\n",
      "hurricane-florence_00000088_pre_disaster_mask.tif\n",
      "hurricane-florence_00000091_post_disaster_mask.tif\n",
      "hurricane-florence_00000091_pre_disaster_mask.tif\n",
      "hurricane-florence_00000093_post_disaster_mask.tif\n",
      "hurricane-florence_00000093_pre_disaster_mask.tif\n",
      "hurricane-florence_00000094_post_disaster_mask.tif\n",
      "hurricane-florence_00000094_pre_disaster_mask.tif\n",
      "hurricane-florence_00000096_post_disaster_mask.tif\n",
      "hurricane-florence_00000096_pre_disaster_mask.tif\n",
      "hurricane-florence_00000099_post_disaster_mask.tif\n",
      "hurricane-florence_00000099_pre_disaster_mask.tif\n"
     ]
    }
   ],
   "source": [
    "img_path = \"C:/data/xview2/train/combine\"\n",
    "for (dirpath, dirspath, filenames) in os.walk(img_path):\n",
    "    for fn in filenames:\n",
    "        mask_fn=fn.replace(\".png\",\"_mask.tif\")\n",
    "        json_fn = fn.replace(\".png\",\".json\")\n",
    "        print(mask_fn)\n",
    "        generate_mask_bw(os.path.join(dirpath, fn),\n",
    "                      os.path.join(xview_train_json_dir, json_fn),\n",
    "                      os.path.join(dirpath, mask_fn))"
   ]
  },
  {
   "cell_type": "code",
   "execution_count": null,
   "metadata": {},
   "outputs": [],
   "source": []
  }
 ],
 "metadata": {
  "kernelspec": {
   "display_name": "Python 3",
   "language": "python",
   "name": "python3"
  },
  "language_info": {
   "codemirror_mode": {
    "name": "ipython",
    "version": 3
   },
   "file_extension": ".py",
   "mimetype": "text/x-python",
   "name": "python",
   "nbconvert_exporter": "python",
   "pygments_lexer": "ipython3",
   "version": "3.6.8"
  }
 },
 "nbformat": 4,
 "nbformat_minor": 2
}
